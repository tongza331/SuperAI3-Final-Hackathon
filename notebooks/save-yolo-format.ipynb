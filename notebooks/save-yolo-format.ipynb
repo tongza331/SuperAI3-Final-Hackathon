{
 "cells": [
  {
   "cell_type": "code",
   "execution_count": 1,
   "id": "e1c34b2d-6350-4b75-95e3-0dbd0cd89017",
   "metadata": {},
   "outputs": [],
   "source": [
    "import cv2\n",
    "import glob\n",
    "import os\n",
    "import shutil\n",
    "import numpy as np\n",
    "import pandas as pd\n",
    "import matplotlib.pyplot as plt\n",
    "\n",
    "from tqdm import tqdm\n",
    "from sklearn.model_selection import train_test_split"
   ]
  },
  {
   "cell_type": "code",
   "execution_count": 2,
   "id": "6766d7f2-6c7a-4342-9c50-52b548f0605c",
   "metadata": {},
   "outputs": [],
   "source": [
    "base_dir = '/project/lt900038-ai23tn/kaggle/im_license_plate_recognition'"
   ]
  },
  {
   "cell_type": "markdown",
   "id": "46326c82-018c-4314-ba42-1e7050669a2c",
   "metadata": {},
   "source": [
    "# Training images"
   ]
  },
  {
   "cell_type": "markdown",
   "id": "d8fdd494-46d7-43d6-9602-5e4ab284c685",
   "metadata": {},
   "source": [
    "## Exclude images whose labels contain errors"
   ]
  },
  {
   "cell_type": "code",
   "execution_count": 3,
   "id": "b6e07a14-8833-4310-a7bc-2f1f6464ecac",
   "metadata": {},
   "outputs": [
    {
     "data": {
      "text/plain": [
       "(934, 1037)"
      ]
     },
     "execution_count": 3,
     "metadata": {},
     "output_type": "execute_result"
    }
   ],
   "source": [
    "train1_folder = os.path.join(base_dir, '1-LPR-950/1-LPR-950/1')\n",
    "train2_folder = os.path.join(base_dir, '2-LRP-950/2-LRP-950/2')\n",
    "train1_files = glob.glob(os.path.join(train1_folder, '*.jpg'))\n",
    "train2_files = glob.glob(os.path.join(train2_folder, '*.jpg'))\n",
    "len(train1_files), len(train2_files)"
   ]
  },
  {
   "cell_type": "code",
   "execution_count": 5,
   "id": "ef274c33-209a-4cdc-9b45-5db61e4c2324",
   "metadata": {},
   "outputs": [],
   "source": [
    "def valid_image(src_path):\n",
    "    tokens = src_path.split('/')\n",
    "    label_path = '/'.join(tokens[:-1] + ['labels'] + [tokens[-1].replace('.jpg', '.txt')])\n",
    "    try:\n",
    "        with open(label_path, 'r') as label_file:\n",
    "            bboxes_list = label_file.readlines()\n",
    "        bboxes_list = [x.split() for x in bboxes_list]\n",
    "    except:\n",
    "        return False\n",
    "    \n",
    "    for bbox in bboxes_list:\n",
    "        if float(bbox[1]) < 0 or float(bbox[1]) > 1:\n",
    "            return False\n",
    "        if float(bbox[2]) < 0 or float(bbox[2]) > 1:\n",
    "            return False\n",
    "        \n",
    "    return True"
   ]
  },
  {
   "cell_type": "code",
   "execution_count": 6,
   "id": "1136b230-1bde-41c0-9911-b3b982e93568",
   "metadata": {},
   "outputs": [
    {
     "name": "stderr",
     "output_type": "stream",
     "text": [
      "100%|██████████| 934/934 [00:05<00:00, 184.85it/s]\n",
      "100%|██████████| 1037/1037 [00:06<00:00, 169.65it/s]\n"
     ]
    }
   ],
   "source": [
    "valid_files = []\n",
    "\n",
    "for path in tqdm(train1_files):\n",
    "    if valid_image(path):\n",
    "        valid_files.append(path)\n",
    "        \n",
    "for path in tqdm(train2_files):\n",
    "    if valid_image(path):\n",
    "        valid_files.append(path)"
   ]
  },
  {
   "cell_type": "code",
   "execution_count": 7,
   "id": "ad4fbeea-8288-458a-9d6e-f142b7640a5c",
   "metadata": {},
   "outputs": [
    {
     "data": {
      "text/plain": [
       "1929"
      ]
     },
     "execution_count": 7,
     "metadata": {},
     "output_type": "execute_result"
    }
   ],
   "source": [
    "len(valid_files)"
   ]
  },
  {
   "cell_type": "markdown",
   "id": "c4f7dcef-0e93-4f0e-a4f2-a1d36333b17e",
   "metadata": {},
   "source": [
    "## Copy images into folders following YOLO data format"
   ]
  },
  {
   "cell_type": "code",
   "execution_count": 16,
   "id": "6ff99e7c-04b9-498e-9cba-1b5d44bf0994",
   "metadata": {},
   "outputs": [],
   "source": [
    "train_files, val_files = train_test_split(valid_files, test_size=0.15) # forgot to set random_state"
   ]
  },
  {
   "cell_type": "code",
   "execution_count": 18,
   "id": "a6d507af-fa8d-41da-8ba7-221fe41325a7",
   "metadata": {},
   "outputs": [
    {
     "data": {
      "text/plain": [
       "(1639, 290)"
      ]
     },
     "execution_count": 18,
     "metadata": {},
     "output_type": "execute_result"
    }
   ],
   "source": [
    "len(train_files), len(val_files)"
   ]
  },
  {
   "cell_type": "code",
   "execution_count": 38,
   "id": "c54c6043-e40e-4e0a-8673-e1e1447cd40e",
   "metadata": {},
   "outputs": [
    {
     "name": "stderr",
     "output_type": "stream",
     "text": [
      "100%|██████████| 1639/1639 [00:16<00:00, 98.10it/s] \n"
     ]
    }
   ],
   "source": [
    "save_dir = '/scratch/lt900002-ai2301/heart/image/yolo/train'\n",
    "img_dir = '/scratch/lt900002-ai2301/heart/image/yolo/train/images'\n",
    "label_dir = '/scratch/lt900002-ai2301/heart/image/yolo/train/labels'\n",
    "os.makedirs(img_dir, exist_ok=True)\n",
    "os.makedirs(label_dir, exist_ok=True)\n",
    "\n",
    "for path in tqdm(train_files):\n",
    "    tokens = path.split('/')\n",
    "    label_path = '/'.join(tokens[:-1] + ['labels'] + [tokens[-1].replace('.jpg', '.txt')])\n",
    "    shutil.copyfile(path, os.path.join(img_dir, tokens[-1]))\n",
    "    shutil.copyfile(label_path, os.path.join(label_dir, tokens[-1].replace('.jpg', '.txt')))"
   ]
  },
  {
   "cell_type": "code",
   "execution_count": null,
   "id": "03a37797-dbd8-44c3-9271-e24ae748bd72",
   "metadata": {},
   "outputs": [
    {
     "name": "stderr",
     "output_type": "stream",
     "text": [
      "100%|██████████| 290/290 [00:01<00:00, 203.28it/s]\n"
     ]
    }
   ],
   "source": [
    "save_dir = '/scratch/lt900002-ai2301/heart/image/yolo/val'\n",
    "img_dir = '/scratch/lt900002-ai2301/heart/image/yolo/val/images'\n",
    "label_dir = '/scratch/lt900002-ai2301/heart/image/yolo/val/labels'\n",
    "os.makedirs(img_dir, exist_ok=True)\n",
    "os.makedirs(label_dir, exist_ok=True)\n",
    "\n",
    "for path in tqdm(val_files):\n",
    "    tokens = path.split('/')\n",
    "    label_path = '/'.join(tokens[:-1] + ['labels'] + [tokens[-1].replace('.jpg', '.txt')])\n",
    "    shutil.copyfile(path, os.path.join(img_dir, tokens[-1]))\n",
    "    shutil.copyfile(label_path, os.path.join(label_dir, tokens[-1].replace('.jpg', '.txt')))"
   ]
  },
  {
   "cell_type": "markdown",
   "id": "7ed97142-4a81-4d1f-bdfd-9455091d7c76",
   "metadata": {},
   "source": [
    "# Test images"
   ]
  },
  {
   "cell_type": "code",
   "execution_count": 10,
   "id": "4f54daa8-66d0-45f9-904a-96fc623b0764",
   "metadata": {},
   "outputs": [],
   "source": [
    "def read_image(path):\n",
    "    img = cv2.imread(path)\n",
    "    return cv2.cvtColor(img, cv2.COLOR_BGR2RGB)\n",
    "\n",
    "def write_image(path, img):\n",
    "    img = cv2.cvtColor(img, cv2.COLOR_RGB2BGR)\n",
    "    cv2.imwrite(path, img)"
   ]
  },
  {
   "cell_type": "code",
   "execution_count": 8,
   "id": "415eb5f5-d1b2-467a-861d-445ba1b40926",
   "metadata": {},
   "outputs": [],
   "source": [
    "test_folder = os.path.join(base_dir, 'test/test')"
   ]
  },
  {
   "cell_type": "code",
   "execution_count": 9,
   "id": "6069f959-f2a4-4570-9bd6-c21f877b70ed",
   "metadata": {},
   "outputs": [],
   "source": [
    "test_df = pd.read_csv(os.path.join(base_dir, 'test.csv'))"
   ]
  },
  {
   "cell_type": "code",
   "execution_count": 11,
   "id": "396dc9d4-99f1-4ea4-9f6b-0c36795bcdda",
   "metadata": {},
   "outputs": [
    {
     "name": "stderr",
     "output_type": "stream",
     "text": [
      "100%|██████████| 1991/1991 [00:16<00:00, 117.93it/s]\n"
     ]
    }
   ],
   "source": [
    "# Crop only the license plate and save to another folder\n",
    "save_folder = '/scratch/lt900002-ai2301/heart/image/test'\n",
    "os.makedirs(save_folder, exist_ok=True)\n",
    "\n",
    "for i, row in tqdm(test_df.iterrows(), total=len(test_df)):\n",
    "    img_path = os.path.join(test_folder, row['image_id'] + '.jpg')\n",
    "    img = read_image(img_path)\n",
    "    write_image(os.path.join(save_folder, row['image_id'] + '.jpg'), img[int(row['y1']):int(row['y2'])+1, int(row['x1']):int(row['x2'])+1])"
   ]
  }
 ],
 "metadata": {
  "kernelspec": {
   "display_name": "Python 3 (ipykernel)",
   "language": "python",
   "name": "python3"
  },
  "language_info": {
   "codemirror_mode": {
    "name": "ipython",
    "version": 3
   },
   "file_extension": ".py",
   "mimetype": "text/x-python",
   "name": "python",
   "nbconvert_exporter": "python",
   "pygments_lexer": "ipython3",
   "version": "3.9.16"
  }
 },
 "nbformat": 4,
 "nbformat_minor": 5
}
