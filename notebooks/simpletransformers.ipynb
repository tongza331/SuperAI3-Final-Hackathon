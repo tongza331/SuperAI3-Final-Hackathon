{
 "cells": [
  {
   "cell_type": "markdown",
   "id": "a3eb0f18-3222-41ca-b7ca-5b4516fbf88f",
   "metadata": {},
   "source": [
    "# Main"
   ]
  },
  {
   "cell_type": "code",
   "execution_count": null,
   "id": "afabefcc-4bc9-4f7b-bb58-fe8fb7a7fb69",
   "metadata": {},
   "outputs": [],
   "source": [
    "import os\n",
    "import csv\n",
    "\n",
    "import numpy as np\n",
    "import pandas as pd\n",
    "import torch\n",
    "\n",
    "from tqdm import tqdm\n",
    "from simpletransformers.ner import NERModel, NERArgs"
   ]
  },
  {
   "cell_type": "code",
   "execution_count": 2,
   "id": "d9acd689-5ea4-4169-9a55-08221e37afd1",
   "metadata": {},
   "outputs": [
    {
     "data": {
      "text/plain": [
       "True"
      ]
     },
     "execution_count": 2,
     "metadata": {},
     "output_type": "execute_result"
    }
   ],
   "source": [
    "cuda_available = torch.cuda.is_available()\n",
    "cuda_available"
   ]
  },
  {
   "attachments": {},
   "cell_type": "markdown",
   "id": "7ab2e9c5-cbd5-4bc3-b91d-6c040001c4bd",
   "metadata": {},
   "source": [
    "## Load data in simpletransformers format"
   ]
  },
  {
   "cell_type": "code",
   "execution_count": 4,
   "id": "27ac3b74-2374-4a65-a7d0-db5254abc27a",
   "metadata": {},
   "outputs": [],
   "source": [
    "train_df = pd.read_csv('csv_data/lst20_train.csv')\n",
    "val_df = pd.read_csv('csv_data/lst20_val.csv')"
   ]
  },
  {
   "cell_type": "code",
   "execution_count": 5,
   "id": "ac6ee3b7-dc9e-4646-8072-f6eeba4924a5",
   "metadata": {},
   "outputs": [
    {
     "data": {
      "text/html": [
       "<div>\n",
       "<style scoped>\n",
       "    .dataframe tbody tr th:only-of-type {\n",
       "        vertical-align: middle;\n",
       "    }\n",
       "\n",
       "    .dataframe tbody tr th {\n",
       "        vertical-align: top;\n",
       "    }\n",
       "\n",
       "    .dataframe thead th {\n",
       "        text-align: right;\n",
       "    }\n",
       "</style>\n",
       "<table border=\"1\" class=\"dataframe\">\n",
       "  <thead>\n",
       "    <tr style=\"text-align: right;\">\n",
       "      <th></th>\n",
       "      <th>sentence_id</th>\n",
       "      <th>words</th>\n",
       "      <th>labels</th>\n",
       "    </tr>\n",
       "  </thead>\n",
       "  <tbody>\n",
       "    <tr>\n",
       "      <th>0</th>\n",
       "      <td>0</td>\n",
       "      <td>ธ.กสิกรไทย</td>\n",
       "      <td>NN</td>\n",
       "    </tr>\n",
       "    <tr>\n",
       "      <th>1</th>\n",
       "      <td>0</td>\n",
       "      <td>จับ</td>\n",
       "      <td>VV</td>\n",
       "    </tr>\n",
       "    <tr>\n",
       "      <th>2</th>\n",
       "      <td>0</td>\n",
       "      <td>มือ</td>\n",
       "      <td>NN</td>\n",
       "    </tr>\n",
       "    <tr>\n",
       "      <th>3</th>\n",
       "      <td>0</td>\n",
       "      <td>เวอริไซน์</td>\n",
       "      <td>NN</td>\n",
       "    </tr>\n",
       "    <tr>\n",
       "      <th>4</th>\n",
       "      <td>0</td>\n",
       "      <td></td>\n",
       "      <td>PU</td>\n",
       "    </tr>\n",
       "  </tbody>\n",
       "</table>\n",
       "</div>"
      ],
      "text/plain": [
       "   sentence_id       words labels\n",
       "0            0  ธ.กสิกรไทย     NN\n",
       "1            0         จับ     VV\n",
       "2            0         มือ     NN\n",
       "3            0   เวอริไซน์     NN\n",
       "4            0                 PU"
      ]
     },
     "execution_count": 5,
     "metadata": {},
     "output_type": "execute_result"
    }
   ],
   "source": [
    "train_df.head()"
   ]
  },
  {
   "cell_type": "code",
   "execution_count": 6,
   "id": "cfa7d648-f73e-4d24-82e6-8010d4ada73c",
   "metadata": {},
   "outputs": [
    {
     "data": {
      "text/html": [
       "<div>\n",
       "<style scoped>\n",
       "    .dataframe tbody tr th:only-of-type {\n",
       "        vertical-align: middle;\n",
       "    }\n",
       "\n",
       "    .dataframe tbody tr th {\n",
       "        vertical-align: top;\n",
       "    }\n",
       "\n",
       "    .dataframe thead th {\n",
       "        text-align: right;\n",
       "    }\n",
       "</style>\n",
       "<table border=\"1\" class=\"dataframe\">\n",
       "  <thead>\n",
       "    <tr style=\"text-align: right;\">\n",
       "      <th></th>\n",
       "      <th>sentence_id</th>\n",
       "      <th>words</th>\n",
       "      <th>labels</th>\n",
       "    </tr>\n",
       "  </thead>\n",
       "  <tbody>\n",
       "    <tr>\n",
       "      <th>0</th>\n",
       "      <td>73198</td>\n",
       "      <td>'</td>\n",
       "      <td>PU</td>\n",
       "    </tr>\n",
       "    <tr>\n",
       "      <th>1</th>\n",
       "      <td>73198</td>\n",
       "      <td>ปอย</td>\n",
       "      <td>NN</td>\n",
       "    </tr>\n",
       "    <tr>\n",
       "      <th>2</th>\n",
       "      <td>73198</td>\n",
       "      <td>'</td>\n",
       "      <td>PU</td>\n",
       "    </tr>\n",
       "    <tr>\n",
       "      <th>3</th>\n",
       "      <td>73198</td>\n",
       "      <td>โต้</td>\n",
       "      <td>VV</td>\n",
       "    </tr>\n",
       "    <tr>\n",
       "      <th>4</th>\n",
       "      <td>73198</td>\n",
       "      <td></td>\n",
       "      <td>PU</td>\n",
       "    </tr>\n",
       "  </tbody>\n",
       "</table>\n",
       "</div>"
      ],
      "text/plain": [
       "   sentence_id words labels\n",
       "0        73198     '     PU\n",
       "1        73198   ปอย     NN\n",
       "2        73198     '     PU\n",
       "3        73198   โต้     VV\n",
       "4        73198           PU"
      ]
     },
     "execution_count": 6,
     "metadata": {},
     "output_type": "execute_result"
    }
   ],
   "source": [
    "val_df.head()"
   ]
  },
  {
   "cell_type": "code",
   "execution_count": 7,
   "id": "444b9726-5d21-4149-ab85-1208f76bd02c",
   "metadata": {},
   "outputs": [
    {
     "data": {
      "text/plain": [
       "True"
      ]
     },
     "execution_count": 7,
     "metadata": {},
     "output_type": "execute_result"
    }
   ],
   "source": [
    "train_df.iloc[4]['words'] == ' '"
   ]
  },
  {
   "cell_type": "markdown",
   "id": "6cf9866e-e282-46b1-977f-ebb03646d0df",
   "metadata": {},
   "source": [
    "## Model & Training"
   ]
  },
  {
   "cell_type": "code",
   "execution_count": 8,
   "id": "a67f010f-fcaa-499c-9bdb-053b822521d6",
   "metadata": {},
   "outputs": [
    {
     "name": "stdout",
     "output_type": "stream",
     "text": [
      "16\n",
      "['AJ', 'AV', 'AX', 'CC', 'CL', 'FX', 'IJ', 'NG', 'NN', 'NU', 'PA', 'PR', 'PS', 'PU', 'VV', 'XX']\n"
     ]
    }
   ],
   "source": [
    "with open(\"ss3-final-nlp-pos-tagging/pos_list.txt\", 'r') as f:\n",
    "    labels_list = eval(f.read())\n",
    "print(len(labels_list))\n",
    "print(labels_list)"
   ]
  },
  {
   "cell_type": "code",
   "execution_count": 56,
   "id": "2739bf6d-7d10-43a0-881b-64ce91242190",
   "metadata": {},
   "outputs": [],
   "source": [
    "model_args = NERArgs()\n",
    "model_args.labels_list = labels_list\n",
    "model_args.train_batch_size = 32\n",
    "model_args.eval_batch_size = 32\n",
    "model_args.evaluate_during_training = True\n",
    "model_args.evaluate_during_training_verbose = True\n",
    "model_args.num_train_epochs = 10\n",
    "model_args.use_early_stopping = True\n",
    "model_args.early_stopping_consider_epochs = True\n",
    "model_args.evaluate_during_training_verbose = True\n",
    "model_args.output_dir = 'outputs_xlm'\n",
    "model_args.overwrite_output_dir = True\n",
    "model_args.max_seq_length = 180\n",
    "# model_args.save_eval_checkpoints = False\n",
    "# model_args.save_model_every_epoch = False\n",
    "model_args.silent = False\n",
    "model_args.use_multiprocessing = True\n",
    "model_args.evaluate_during_training_steps = -1"
   ]
  },
  {
   "cell_type": "code",
   "execution_count": null,
   "id": "d9dadafa-10de-4ed5-ac17-a30bfc40c59d",
   "metadata": {},
   "outputs": [],
   "source": [
    "# TODO: Search for the best model\n",
    "model = NERModel(\"xlmroberta\", \"xlm-roberta-large\", args=model_args)\n",
    "# model = NERModel(\"camembert\", \"airesearch/wangchanberta-base-att-spm-uncased\", args=model_args)"
   ]
  },
  {
   "cell_type": "code",
   "execution_count": null,
   "id": "139f5397-fcf0-46d2-adfe-7d4924d648b5",
   "metadata": {},
   "outputs": [],
   "source": [
    "model.train_model(train_df, eval_data=val_df)"
   ]
  },
  {
   "cell_type": "markdown",
   "id": "f46a1764-a47f-46ca-80f2-87d94f8e8243",
   "metadata": {},
   "source": [
    "## Get predictions"
   ]
  },
  {
   "cell_type": "code",
   "execution_count": 63,
   "id": "58a20467-3962-49f2-8acc-c37f1cbb1b46",
   "metadata": {},
   "outputs": [
    {
     "name": "stderr",
     "output_type": "stream",
     "text": [
      "/home/superai019/.conda/envs/nlp/lib/python3.9/site-packages/simpletransformers/ner/ner_model.py:419: UserWarning: use_multiprocessing automatically disabled as CamemBERT fails when using multiprocessing for feature conversion.\n",
      "  warnings.warn(\n"
     ]
    }
   ],
   "source": [
    "model_args.silent = True\n",
    "model_args.use_multiprocessing = False\n",
    "\n",
    "model = NERModel(\"xlmroberta\", \"outputs_xlm/best_model\", args=model_args)\n",
    "# model = NERModel(\"camembert\", \"outputs_wangchan/best_model\", args=model_args)"
   ]
  },
  {
   "cell_type": "code",
   "execution_count": 64,
   "id": "71604860-267b-416e-98a2-47700ea9d1ca",
   "metadata": {},
   "outputs": [
    {
     "name": "stderr",
     "output_type": "stream",
     "text": [
      "/home/superai019/.conda/envs/nlp/lib/python3.9/site-packages/simpletransformers/ner/ner_utils.py:190: FutureWarning: In a future version of pandas, a length 1 tuple will be returned when iterating over a groupby with a grouper equal to a list of length 1. Don't supply a list with a single grouper to avoid this warning.\n",
      "  return [\n",
      "/home/superai019/.conda/envs/nlp/lib/python3.9/site-packages/seqeval/metrics/sequence_labeling.py:171: UserWarning: PU seems not to be NE tag.\n",
      "  warnings.warn('{} seems not to be NE tag.'.format(chunk))\n",
      "/home/superai019/.conda/envs/nlp/lib/python3.9/site-packages/seqeval/metrics/sequence_labeling.py:171: UserWarning: NN seems not to be NE tag.\n",
      "  warnings.warn('{} seems not to be NE tag.'.format(chunk))\n",
      "/home/superai019/.conda/envs/nlp/lib/python3.9/site-packages/seqeval/metrics/sequence_labeling.py:171: UserWarning: VV seems not to be NE tag.\n",
      "  warnings.warn('{} seems not to be NE tag.'.format(chunk))\n",
      "/home/superai019/.conda/envs/nlp/lib/python3.9/site-packages/seqeval/metrics/sequence_labeling.py:171: UserWarning: AJ seems not to be NE tag.\n",
      "  warnings.warn('{} seems not to be NE tag.'.format(chunk))\n",
      "/home/superai019/.conda/envs/nlp/lib/python3.9/site-packages/seqeval/metrics/sequence_labeling.py:171: UserWarning: NG seems not to be NE tag.\n",
      "  warnings.warn('{} seems not to be NE tag.'.format(chunk))\n",
      "/home/superai019/.conda/envs/nlp/lib/python3.9/site-packages/seqeval/metrics/sequence_labeling.py:171: UserWarning: AX seems not to be NE tag.\n",
      "  warnings.warn('{} seems not to be NE tag.'.format(chunk))\n",
      "/home/superai019/.conda/envs/nlp/lib/python3.9/site-packages/seqeval/metrics/sequence_labeling.py:171: UserWarning: CC seems not to be NE tag.\n",
      "  warnings.warn('{} seems not to be NE tag.'.format(chunk))\n",
      "/home/superai019/.conda/envs/nlp/lib/python3.9/site-packages/seqeval/metrics/sequence_labeling.py:171: UserWarning: FX seems not to be NE tag.\n",
      "  warnings.warn('{} seems not to be NE tag.'.format(chunk))\n",
      "/home/superai019/.conda/envs/nlp/lib/python3.9/site-packages/seqeval/metrics/sequence_labeling.py:171: UserWarning: AV seems not to be NE tag.\n",
      "  warnings.warn('{} seems not to be NE tag.'.format(chunk))\n",
      "/home/superai019/.conda/envs/nlp/lib/python3.9/site-packages/seqeval/metrics/sequence_labeling.py:171: UserWarning: PS seems not to be NE tag.\n",
      "  warnings.warn('{} seems not to be NE tag.'.format(chunk))\n",
      "/home/superai019/.conda/envs/nlp/lib/python3.9/site-packages/seqeval/metrics/sequence_labeling.py:171: UserWarning: PR seems not to be NE tag.\n",
      "  warnings.warn('{} seems not to be NE tag.'.format(chunk))\n",
      "/home/superai019/.conda/envs/nlp/lib/python3.9/site-packages/seqeval/metrics/sequence_labeling.py:171: UserWarning: CL seems not to be NE tag.\n",
      "  warnings.warn('{} seems not to be NE tag.'.format(chunk))\n",
      "/home/superai019/.conda/envs/nlp/lib/python3.9/site-packages/seqeval/metrics/sequence_labeling.py:171: UserWarning: NU seems not to be NE tag.\n",
      "  warnings.warn('{} seems not to be NE tag.'.format(chunk))\n",
      "/home/superai019/.conda/envs/nlp/lib/python3.9/site-packages/seqeval/metrics/sequence_labeling.py:171: UserWarning: PA seems not to be NE tag.\n",
      "  warnings.warn('{} seems not to be NE tag.'.format(chunk))\n",
      "/home/superai019/.conda/envs/nlp/lib/python3.9/site-packages/seqeval/metrics/sequence_labeling.py:171: UserWarning: XX seems not to be NE tag.\n",
      "  warnings.warn('{} seems not to be NE tag.'.format(chunk))\n",
      "/home/superai019/.conda/envs/nlp/lib/python3.9/site-packages/seqeval/metrics/sequence_labeling.py:171: UserWarning: IJ seems not to be NE tag.\n",
      "  warnings.warn('{} seems not to be NE tag.'.format(chunk))\n"
     ]
    }
   ],
   "source": [
    "# Evaluation\n",
    "result, model_outputs, preds_list = model.eval_model(val_df)"
   ]
  },
  {
   "cell_type": "code",
   "execution_count": null,
   "id": "34ced500-512a-4eeb-a98a-64c6cda7098b",
   "metadata": {},
   "outputs": [],
   "source": [
    "result"
   ]
  },
  {
   "cell_type": "code",
   "execution_count": 66,
   "id": "ceebb1f7-e9ea-4b61-a5b8-c2bf85550973",
   "metadata": {},
   "outputs": [],
   "source": [
    "test_file = \"ss3-final-nlp-pos-tagging/pos_test.txt\""
   ]
  },
  {
   "cell_type": "code",
   "execution_count": 67,
   "id": "a4a0a32d-4719-44b9-bc09-6a378f55be83",
   "metadata": {},
   "outputs": [
    {
     "data": {
      "text/plain": [
       "103913"
      ]
     },
     "execution_count": 67,
     "metadata": {},
     "output_type": "execute_result"
    }
   ],
   "source": [
    "with open(test_file, 'r') as f:\n",
    "    l = f.readlines()\n",
    "    \n",
    "test_list = list(map(lambda x: ' ' if x == '\\n' else x.replace('\\n', ''), l))[:-1]\n",
    "len(test_list)"
   ]
  },
  {
   "cell_type": "code",
   "execution_count": 68,
   "id": "72a327e6-5deb-40fb-8b1a-b496706310f1",
   "metadata": {},
   "outputs": [
    {
     "data": {
      "text/plain": [
       "['อย่างไรก็ตาม',\n",
       " 'เครื่อง',\n",
       " 'บิน',\n",
       " 'แอร์บัส',\n",
       " ' ',\n",
       " 'เอ',\n",
       " '380',\n",
       " 'ได้',\n",
       " 'ถึง',\n",
       " 'ที่']"
      ]
     },
     "execution_count": 68,
     "metadata": {},
     "output_type": "execute_result"
    }
   ],
   "source": [
    "test_list[:10]"
   ]
  },
  {
   "cell_type": "code",
   "execution_count": 69,
   "id": "0cd26e39-e406-4d70-b138-b143dd6bd197",
   "metadata": {},
   "outputs": [
    {
     "name": "stderr",
     "output_type": "stream",
     "text": [
      "100%|██████████| 2598/2598 [00:28<00:00, 92.51it/s]\n"
     ]
    }
   ],
   "source": [
    "CHUNK_SIZE = 40\n",
    "PAD_SIZE = 10\n",
    "\n",
    "chunk_list = []\n",
    "\n",
    "i = 0\n",
    "while (i < len(test_list)):\n",
    "    start = i - PAD_SIZE if (i - PAD_SIZE) >= 0 else 0 \n",
    "    end = i + CHUNK_SIZE + PAD_SIZE if (i + CHUNK_SIZE + PAD_SIZE) < len(test_list) else len(test_list)\n",
    "    chunk_list.append((i, start, end))\n",
    "    i += CHUNK_SIZE\n",
    "    \n",
    "all_pred = []\n",
    "\n",
    "for i, start, end in tqdm(chunk_list):\n",
    "    predictions, raw_outputs = model.predict([test_list[start:end]], split_on_space=False)\n",
    "    i_start = i - start\n",
    "    i_end = i - start + CHUNK_SIZE if (i - start + CHUNK_SIZE) < len(predictions[0]) else len(predictions[0])\n",
    "    all_pred.append(predictions[0][i_start:i_end])"
   ]
  },
  {
   "cell_type": "code",
   "execution_count": 72,
   "id": "6c8a9130-4771-4bf5-b931-b0b9794c5d9d",
   "metadata": {},
   "outputs": [
    {
     "data": {
      "text/plain": [
       "103913"
      ]
     },
     "execution_count": 72,
     "metadata": {},
     "output_type": "execute_result"
    }
   ],
   "source": [
    "test_pred = [[k, v] for i in all_pred for j in i for (k, v) in j.items()]\n",
    "len(test_pred)"
   ]
  },
  {
   "cell_type": "code",
   "execution_count": 73,
   "id": "b210c2ad-558b-47f2-bef1-b4ca1cf5b2d1",
   "metadata": {},
   "outputs": [],
   "source": [
    "sub_df = pd.DataFrame(test_pred, columns=['Word', 'Predicted'])\n",
    "sub_df['Id'] = sub_df.index + 1"
   ]
  },
  {
   "cell_type": "code",
   "execution_count": 74,
   "id": "8e84fc2b-f7cb-4d4f-acd6-93c60ece805f",
   "metadata": {},
   "outputs": [
    {
     "data": {
      "text/html": [
       "<div>\n",
       "<style scoped>\n",
       "    .dataframe tbody tr th:only-of-type {\n",
       "        vertical-align: middle;\n",
       "    }\n",
       "\n",
       "    .dataframe tbody tr th {\n",
       "        vertical-align: top;\n",
       "    }\n",
       "\n",
       "    .dataframe thead th {\n",
       "        text-align: right;\n",
       "    }\n",
       "</style>\n",
       "<table border=\"1\" class=\"dataframe\">\n",
       "  <thead>\n",
       "    <tr style=\"text-align: right;\">\n",
       "      <th></th>\n",
       "      <th>Word</th>\n",
       "      <th>Predicted</th>\n",
       "      <th>Id</th>\n",
       "    </tr>\n",
       "  </thead>\n",
       "  <tbody>\n",
       "    <tr>\n",
       "      <th>0</th>\n",
       "      <td>อย่างไรก็ตาม</td>\n",
       "      <td>CC</td>\n",
       "      <td>1</td>\n",
       "    </tr>\n",
       "    <tr>\n",
       "      <th>1</th>\n",
       "      <td>เครื่อง</td>\n",
       "      <td>NN</td>\n",
       "      <td>2</td>\n",
       "    </tr>\n",
       "    <tr>\n",
       "      <th>2</th>\n",
       "      <td>บิน</td>\n",
       "      <td>VV</td>\n",
       "      <td>3</td>\n",
       "    </tr>\n",
       "    <tr>\n",
       "      <th>3</th>\n",
       "      <td>แอร์บัส</td>\n",
       "      <td>NN</td>\n",
       "      <td>4</td>\n",
       "    </tr>\n",
       "    <tr>\n",
       "      <th>4</th>\n",
       "      <td></td>\n",
       "      <td>PU</td>\n",
       "      <td>5</td>\n",
       "    </tr>\n",
       "    <tr>\n",
       "      <th>...</th>\n",
       "      <td>...</td>\n",
       "      <td>...</td>\n",
       "      <td>...</td>\n",
       "    </tr>\n",
       "    <tr>\n",
       "      <th>103908</th>\n",
       "      <td>เตรียม</td>\n",
       "      <td>VV</td>\n",
       "      <td>103909</td>\n",
       "    </tr>\n",
       "    <tr>\n",
       "      <th>103909</th>\n",
       "      <td>พร้อม</td>\n",
       "      <td>VV</td>\n",
       "      <td>103910</td>\n",
       "    </tr>\n",
       "    <tr>\n",
       "      <th>103910</th>\n",
       "      <td>รับ</td>\n",
       "      <td>VV</td>\n",
       "      <td>103911</td>\n",
       "    </tr>\n",
       "    <tr>\n",
       "      <th>103911</th>\n",
       "      <td>การ</td>\n",
       "      <td>FX</td>\n",
       "      <td>103912</td>\n",
       "    </tr>\n",
       "    <tr>\n",
       "      <th>103912</th>\n",
       "      <td>โจมตี</td>\n",
       "      <td>VV</td>\n",
       "      <td>103913</td>\n",
       "    </tr>\n",
       "  </tbody>\n",
       "</table>\n",
       "<p>103913 rows × 3 columns</p>\n",
       "</div>"
      ],
      "text/plain": [
       "                Word Predicted      Id\n",
       "0       อย่างไรก็ตาม        CC       1\n",
       "1            เครื่อง        NN       2\n",
       "2                บิน        VV       3\n",
       "3            แอร์บัส        NN       4\n",
       "4                           PU       5\n",
       "...              ...       ...     ...\n",
       "103908        เตรียม        VV  103909\n",
       "103909         พร้อม        VV  103910\n",
       "103910           รับ        VV  103911\n",
       "103911           การ        FX  103912\n",
       "103912         โจมตี        VV  103913\n",
       "\n",
       "[103913 rows x 3 columns]"
      ]
     },
     "execution_count": 74,
     "metadata": {},
     "output_type": "execute_result"
    }
   ],
   "source": [
    "sub_df"
   ]
  },
  {
   "cell_type": "code",
   "execution_count": 75,
   "id": "292f840a-8c1b-41fd-813e-5310a57c613f",
   "metadata": {},
   "outputs": [],
   "source": [
    "os.makedirs('submissions', exist_ok=True)\n",
    "sub_df[['Id', 'Predicted']].to_csv('submissions/sub_xlm.csv', index=False)"
   ]
  }
 ],
 "metadata": {
  "kernelspec": {
   "display_name": "Python 3",
   "language": "python",
   "name": "python3"
  },
  "language_info": {
   "codemirror_mode": {
    "name": "ipython",
    "version": 3
   },
   "file_extension": ".py",
   "mimetype": "text/x-python",
   "name": "python",
   "nbconvert_exporter": "python",
   "pygments_lexer": "ipython3",
   "version": "3.9.16"
  }
 },
 "nbformat": 4,
 "nbformat_minor": 5
}
