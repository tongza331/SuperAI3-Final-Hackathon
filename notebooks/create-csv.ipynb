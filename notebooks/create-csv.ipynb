{
 "cells": [
  {
   "attachments": {},
   "cell_type": "markdown",
   "id": "79b1574d",
   "metadata": {},
   "source": [
    "ไฟล์นี้เกิดจากความไม่รู้ว่าสามารถใช้ library *datasets* ของ huggingface ได้ เลยมานั่งแปลงไฟล์แบบ manual เอง"
   ]
  },
  {
   "cell_type": "code",
   "execution_count": 5,
   "id": "44d58f73-9e09-4524-8df9-6defecea78da",
   "metadata": {},
   "outputs": [],
   "source": [
    "import os\n",
    "import csv\n",
    "import glob\n",
    "\n",
    "import numpy as np\n",
    "import pandas as pd\n",
    "\n",
    "from tqdm import tqdm\n",
    "from io import StringIO"
   ]
  },
  {
   "cell_type": "markdown",
   "id": "dd9df25c-6437-4767-8a96-049292dfaa56",
   "metadata": {},
   "source": [
    "# LST20"
   ]
  },
  {
   "cell_type": "code",
   "execution_count": 1,
   "id": "e3d1eead-84b3-420b-83ac-e6fd6359b78f",
   "metadata": {},
   "outputs": [],
   "source": [
    "lst20_train_folder = \"/project/lt900038-ai23tn/kaggle/nlp_pos_tagging/LST20-21/LST20/train\"\n",
    "lst20_eval_folder = \"/project/lt900038-ai23tn/kaggle/nlp_pos_tagging/LST20-21/LST20/eval\"\n",
    "lst20_test_folder = \"/project/lt900038-ai23tn/kaggle/nlp_pos_tagging/LST20-21/LST20/test\""
   ]
  },
  {
   "cell_type": "code",
   "execution_count": 2,
   "id": "0b51fe08-96e2-4c75-a0fa-d1abe8315628",
   "metadata": {},
   "outputs": [
    {
     "data": {
      "text/plain": [
       "16"
      ]
     },
     "execution_count": 2,
     "metadata": {},
     "output_type": "execute_result"
    }
   ],
   "source": [
    "with open(\"ss3-final-nlp-pos-tagging/pos_list.txt\", 'r') as f:\n",
    "    labels_list = eval(f.read())\n",
    "len(labels_list)"
   ]
  },
  {
   "cell_type": "code",
   "execution_count": 12,
   "id": "70023a2e-fc07-4905-813b-d60223ba6895",
   "metadata": {},
   "outputs": [],
   "source": [
    "lst20_train_files = glob.glob(os.path.join(lst20_train_folder, '*.txt'))\n",
    "lst20_eval_files = glob.glob(os.path.join(lst20_eval_folder, '*.txt'))\n",
    "lst20_test_files = glob.glob(os.path.join(lst20_test_folder, '*.txt'))\n",
    "\n",
    "lst20_train_files += lst20_eval_files"
   ]
  },
  {
   "cell_type": "code",
   "execution_count": 18,
   "id": "9c15def3-4279-4e8b-8108-67f390d0993a",
   "metadata": {},
   "outputs": [
    {
     "data": {
      "text/plain": [
       "(4268, 483)"
      ]
     },
     "execution_count": 18,
     "metadata": {},
     "output_type": "execute_result"
    }
   ],
   "source": [
    "len(lst20_train_files), len(lst20_test_files)"
   ]
  },
  {
   "cell_type": "code",
   "execution_count": 38,
   "id": "62dca09a-224e-488c-915d-01385edab717",
   "metadata": {},
   "outputs": [
    {
     "name": "stderr",
     "output_type": "stream",
     "text": [
      "100%|██████████| 4268/4268 [02:04<00:00, 34.32it/s]\n"
     ]
    }
   ],
   "source": [
    "lst20_train_dfs = []\n",
    "sentence_id = 0\n",
    "length = []\n",
    "\n",
    "for filepath in tqdm(lst20_train_files):\n",
    "    with open(filepath, 'r') as f:\n",
    "        content = f.read()\n",
    "        for s in content.split('\\n\\n'):\n",
    "            df = pd.read_csv(StringIO(s), sep='\\t', quoting=csv.QUOTE_NONE, names=['words', 'labels', 'NER', 'CLS'])\n",
    "            length.append(len(df))\n",
    "            if not (df['labels'].isin(labels_list)).all():\n",
    "                print(filepath)\n",
    "                continue\n",
    "            df['words'] = df['words'].apply(lambda x: ' ' if x == '_' else x)\n",
    "            df['sentence_id'] = sentence_id\n",
    "            lst20_train_dfs.append(df[['sentence_id', 'words', 'labels']])\n",
    "            sentence_id += 1"
   ]
  },
  {
   "cell_type": "code",
   "execution_count": 25,
   "id": "562c449f-6f30-4e02-9c10-02b1f614bf8a",
   "metadata": {},
   "outputs": [
    {
     "data": {
      "text/plain": [
       "73198"
      ]
     },
     "execution_count": 25,
     "metadata": {},
     "output_type": "execute_result"
    }
   ],
   "source": [
    "len(lst20_train_dfs)"
   ]
  },
  {
   "cell_type": "code",
   "execution_count": 29,
   "id": "41b1187c-8d6c-486e-b6f9-c70fa16074e8",
   "metadata": {},
   "outputs": [
    {
     "data": {
      "text/plain": [
       "2955586"
      ]
     },
     "execution_count": 29,
     "metadata": {},
     "output_type": "execute_result"
    }
   ],
   "source": [
    "lst20_train_df = pd.concat(lst20_train_dfs)\n",
    "len(lst20_train_df)"
   ]
  },
  {
   "cell_type": "code",
   "execution_count": 30,
   "id": "bb19cd01-3a00-4fe2-a496-75eb53957e26",
   "metadata": {},
   "outputs": [
    {
     "name": "stderr",
     "output_type": "stream",
     "text": [
      "100%|██████████| 483/483 [00:11<00:00, 42.14it/s]\n"
     ]
    }
   ],
   "source": [
    "lst20_val_dfs = []\n",
    "\n",
    "for filepath in tqdm(lst20_test_files):\n",
    "    with open(filepath, 'r') as f:\n",
    "        content = f.read()\n",
    "        for s in content.split('\\n\\n'):\n",
    "            df = pd.read_csv(StringIO(s), sep='\\t', quoting=csv.QUOTE_NONE, names=['words', 'labels', 'NER', 'CLS'])\n",
    "            if not (df['labels'].isin(labels_list)).all():\n",
    "                print(filepath)\n",
    "                continue\n",
    "            df['words'] = df['words'].apply(lambda x: ' ' if x == '_' else x)\n",
    "            df['sentence_id'] = sentence_id\n",
    "            lst20_val_dfs.append(df[['sentence_id', 'words', 'labels']])\n",
    "            sentence_id += 1"
   ]
  },
  {
   "cell_type": "code",
   "execution_count": 31,
   "id": "c194fec2-d27f-4ebc-aae8-8050674073d0",
   "metadata": {},
   "outputs": [
    {
     "data": {
      "text/plain": [
       "207278"
      ]
     },
     "execution_count": 31,
     "metadata": {},
     "output_type": "execute_result"
    }
   ],
   "source": [
    "lst20_val_df = pd.concat(lst20_val_dfs)\n",
    "len(lst20_val_df)"
   ]
  },
  {
   "cell_type": "code",
   "execution_count": 35,
   "id": "a9c48609-0554-4cd7-ba8f-4e6be0d60f32",
   "metadata": {},
   "outputs": [],
   "source": [
    "os.makedirs('csv_data', exist_ok=True)\n",
    "\n",
    "lst20_train_df.to_csv('csv_data/lst20_train.csv', index=False)\n",
    "lst20_val_df.to_csv('csv_data/lst20_val.csv', index=False)"
   ]
  }
 ],
 "metadata": {
  "kernelspec": {
   "display_name": "Python 3",
   "language": "python",
   "name": "python3"
  },
  "language_info": {
   "codemirror_mode": {
    "name": "ipython",
    "version": 3
   },
   "file_extension": ".py",
   "mimetype": "text/x-python",
   "name": "python",
   "nbconvert_exporter": "python",
   "pygments_lexer": "ipython3",
   "version": "3.9.16"
  }
 },
 "nbformat": 4,
 "nbformat_minor": 5
}
